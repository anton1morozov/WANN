{
 "cells": [
  {
   "cell_type": "code",
   "execution_count": null,
   "id": "offshore-bangkok",
   "metadata": {},
   "outputs": [],
   "source": [
    "# Checking where's currenly used python interpreter\n",
    "!which python\n",
    "!which pip"
   ]
  },
  {
   "cell_type": "code",
   "execution_count": null,
   "id": "referenced-plate",
   "metadata": {},
   "outputs": [],
   "source": [
    "# Installing requirements for WANN\n",
    "!pip install -r requirements.txt"
   ]
  },
  {
   "cell_type": "code",
   "execution_count": null,
   "id": "complex-special",
   "metadata": {},
   "outputs": [],
   "source": [
    "# Run code belo to download mnist data from kaggle (maker sure, that you've kaggle module installed)\n",
    "\n",
    "# !kaggle competitions download -c digit-recognizer\n",
    "# !mkdir data\n",
    "# !unzip digit-recognizer.zip -d ./data"
   ]
  },
  {
   "cell_type": "code",
   "execution_count": null,
   "id": "substantial-brisbane",
   "metadata": {},
   "outputs": [],
   "source": [
    "# Imports\n",
    "from wann import WANN\n",
    "from utils import WANNClassificationTrainer\n",
    "from matplotlib import pyplot as plt\n",
    "import pandas as pd\n",
    "import numpy as np\n",
    "from random import choice\n",
    "from matplotlib import pyplot as plt\n",
    "import tensorflow as tf"
   ]
  },
  {
   "cell_type": "markdown",
   "id": "static-helicopter",
   "metadata": {},
   "source": [
    "Let's take a look at our data"
   ]
  },
  {
   "cell_type": "code",
   "execution_count": null,
   "id": "alpha-music",
   "metadata": {},
   "outputs": [],
   "source": [
    "# Loading data\n",
    "train_df = pd.read_csv('../data/train.csv')\n",
    "y_train = train_df.pop('label')\n",
    "test_df = pd.read_csv('../data/test.csv')"
   ]
  },
  {
   "cell_type": "code",
   "execution_count": null,
   "id": "ideal-administration",
   "metadata": {},
   "outputs": [],
   "source": [
    "# Show raw dataframe\n",
    "train_df"
   ]
  },
  {
   "cell_type": "code",
   "execution_count": null,
   "id": "outer-fault",
   "metadata": {},
   "outputs": [],
   "source": [
    "# Conversion: pandas dataframe to numpy array\n",
    "X_train = np.array(train_df).astype('float') / 255\n",
    "y_train = y_train.values\n",
    "X_test = np.array(test_df).astype('float') / 255\n",
    "columns = list(train_df.columns)\n",
    "del train_df\n",
    "del test_df"
   ]
  },
  {
   "cell_type": "code",
   "execution_count": null,
   "id": "processed-layer",
   "metadata": {},
   "outputs": [],
   "source": [
    "# Show some images\n",
    "fig, ((ax, ay), (az, aw)) = plt.subplots(2, 2)\n",
    "\n",
    "ax.imshow(choice(X_train).reshape((28, 28)))\n",
    "ay.imshow(choice(X_train).reshape((28, 28)))\n",
    "az.imshow(choice(X_train).reshape((28, 28)))\n",
    "aw.imshow(choice(X_train).reshape((28, 28)))\n",
    "\n",
    "plt.show()"
   ]
  },
  {
   "cell_type": "markdown",
   "id": "negative-plymouth",
   "metadata": {},
   "source": [
    "Performing actual training"
   ]
  },
  {
   "cell_type": "code",
   "execution_count": null,
   "id": "advised-newcastle",
   "metadata": {},
   "outputs": [],
   "source": [
    "trainer = WANNClassificationTrainer(sensor_nodes=columns, output_nodes=[str(i) for i in range(10)])\n",
    "wanns = trainer.fit(X_train, y_train)"
   ]
  },
  {
   "cell_type": "code",
   "execution_count": null,
   "id": "bored-sydney",
   "metadata": {},
   "outputs": [],
   "source": []
  }
 ],
 "metadata": {
  "kernelspec": {
   "display_name": "Python 3",
   "language": "python",
   "name": "python3"
  },
  "language_info": {
   "codemirror_mode": {
    "name": "ipython",
    "version": 3
   },
   "file_extension": ".py",
   "mimetype": "text/x-python",
   "name": "python",
   "nbconvert_exporter": "python",
   "pygments_lexer": "ipython3",
   "version": "3.6.9"
  }
 },
 "nbformat": 4,
 "nbformat_minor": 5
}
